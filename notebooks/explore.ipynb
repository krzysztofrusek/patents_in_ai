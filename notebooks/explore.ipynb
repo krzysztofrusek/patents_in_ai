{
 "cells": [
  {
   "cell_type": "code",
   "execution_count": null,
   "metadata": {
    "collapsed": true
   },
   "outputs": [],
   "source": [
    "import numpy as np\n",
    "import pandas as pd\n",
    "import numpy\n",
    "import matplotlib.pyplot as plt"
   ]
  },
  {
   "cell_type": "code",
   "execution_count": null,
   "outputs": [],
   "source": [
    "import data"
   ],
   "metadata": {
    "collapsed": false,
    "pycharm": {
     "name": "#%%\n"
    }
   }
  },
  {
   "cell_type": "code",
   "execution_count": null,
   "outputs": [],
   "source": [
    "appc_raw = pd.read_csv('../Review_1st_April_2022/DANE_INVENTOR_vs_APPLICANT/resultlist-2_APPC.csv',sep=';')\n",
    "invc_raw = pd.read_csv('../Review_1st_April_2022/DANE_INVENTOR_vs_APPLICANT/resultlist-2_INVC.csv',sep=';')"
   ],
   "metadata": {
    "collapsed": false,
    "pycharm": {
     "name": "#%%\n"
    }
   }
  },
  {
   "cell_type": "code",
   "execution_count": null,
   "outputs": [],
   "source": [
    "#data.make_clean_df(appc_raw,'Inventor country of residence')\n",
    "#data.make_clean_df(appc_raw,'Applicant country of residence')"
   ],
   "metadata": {
    "collapsed": false,
    "pycharm": {
     "name": "#%%\n"
    }
   }
  },
  {
   "cell_type": "code",
   "execution_count": null,
   "outputs": [],
   "source": [
    "info = lambda x: print(x.shape, len(set(x)))\n",
    "print('APPC')\n",
    "info(appc_raw['Publication'])\n",
    "print('INVC')\n",
    "info(invc_raw['Publication'])\n",
    "print('Wspolne' ,len(set(appc_raw['Publication']).intersection(set(invc_raw['Publication']))))\n"
   ],
   "metadata": {
    "collapsed": false,
    "pycharm": {
     "name": "#%%\n"
    }
   }
  },
  {
   "cell_type": "code",
   "execution_count": null,
   "outputs": [],
   "source": [
    "col = 'Applicant country of residence'\n",
    "data.make_country_series(appc_raw[col]).map(len).hist(label='appc',bins=100)\n",
    "data.make_country_series(invc_raw[col]).map(len).hist(label='invc',bins=100)\n",
    "plt.legend()\n",
    "plt.title(col)\n",
    "plt.figure()\n",
    "\n",
    "col = 'Inventor country of residence'\n",
    "data.make_country_series(appc_raw[col]).map(len).hist(label='appc',bins=100)\n",
    "data.make_country_series(invc_raw[col]).map(len).hist(label='invc',bins=100)\n",
    "plt.legend()\n",
    "plt.title(col)"
   ],
   "metadata": {
    "collapsed": false,
    "pycharm": {
     "name": "#%%\n"
    }
   }
  },
  {
   "cell_type": "code",
   "execution_count": null,
   "outputs": [],
   "source": [],
   "metadata": {
    "collapsed": false,
    "pycharm": {
     "name": "#%%\n"
    }
   }
  }
 ],
 "metadata": {
  "kernelspec": {
   "display_name": "Python 3",
   "language": "python",
   "name": "python3"
  },
  "language_info": {
   "codemirror_mode": {
    "name": "ipython",
    "version": 2
   },
   "file_extension": ".py",
   "mimetype": "text/x-python",
   "name": "python",
   "nbconvert_exporter": "python",
   "pygments_lexer": "ipython2",
   "version": "2.7.6"
  }
 },
 "nbformat": 4,
 "nbformat_minor": 0
}