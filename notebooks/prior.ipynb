{
 "cells": [
  {
   "cell_type": "code",
   "execution_count": null,
   "metadata": {
    "collapsed": true
   },
   "outputs": [],
   "source": [
    "import chex\n",
    "import matplotlib.pyplot as plt\n",
    "import numpy as np\n",
    "import pandas as pd\n",
    "from jax.config import config\n",
    "import jax\n",
    "import jax.numpy as jnp\n",
    "import jax.scipy.optimize as opt\n",
    "import matplotlib as mpl\n",
    "import seaborn as sns\n",
    "from  matplotlib import pyplot as plt\n",
    "\n",
    "from typing import NamedTuple\n",
    "\n",
    "from absl import flags, app, logging\n",
    "#from tensorflow_probability.substrates import jax as tfp\n",
    "from tensorflow_probability.substrates import numpy as tfp\n",
    "tfd = tfp.distributions\n",
    "tfb = tfp.bijectors\n",
    "\n",
    "import haiku as hk"
   ]
  },
  {
   "cell_type": "code",
   "execution_count": null,
   "outputs": [],
   "source": [
    "maximum = tfd.LogNormal(loc=np.asarray(26.),scale=np.asarray(4.))\n",
    "\n",
    "x=np.logspace(2,4, 200)\n",
    "\n",
    "plt.plot(x, maximum.log_prob(x))\n",
    "plt.axvline(10759)\n",
    "plt.xscale('log')"
   ],
   "metadata": {
    "collapsed": false,
    "pycharm": {
     "name": "#%%\n"
    }
   }
  },
  {
   "cell_type": "markdown",
   "source": [
    "max w 11000 i cikzi ogon"
   ],
   "metadata": {
    "collapsed": false
   }
  },
  {
   "cell_type": "code",
   "execution_count": null,
   "outputs": [],
   "source": [
    "plt.plot(x, tfd.Pareto(1.1, 1000).prob(x))"
   ],
   "metadata": {
    "collapsed": false,
    "pycharm": {
     "name": "#%%\n"
    }
   }
  },
  {
   "cell_type": "code",
   "execution_count": null,
   "outputs": [],
   "source": [
    "x=np.linspace(-30,100,300)\n",
    "plt.plot(x, tfd.TransformedDistribution(tfd.Normal(0.,3.),tfb.Chain([\n",
    "    tfb.Shift(60.),\n",
    "    tfb.Softplus(),\n",
    "    tfb.Scale(2),\n",
    "\n",
    "])\n",
    "                                        ).prob(x))"
   ],
   "metadata": {
    "collapsed": false,
    "pycharm": {
     "name": "#%%\n"
    }
   }
  },
  {
   "cell_type": "code",
   "execution_count": null,
   "outputs": [],
   "source": [
    "maximum = tfd.Pareto(1.3, 10759.)\n",
    "\n",
    "x=np.logspace(4,8, 200)\n",
    "\n",
    "plt.plot(x, maximum.prob(x))\n",
    "plt.axvline(10759)\n",
    "plt.xscale('log')"
   ],
   "metadata": {
    "collapsed": false,
    "pycharm": {
     "name": "#%%\n"
    }
   }
  },
  {
   "cell_type": "code",
   "execution_count": null,
   "outputs": [],
   "source": [
    "maximum.mean()"
   ],
   "metadata": {
    "collapsed": false,
    "pycharm": {
     "name": "#%%\n"
    }
   }
  },
  {
   "cell_type": "code",
   "execution_count": null,
   "outputs": [],
   "source": [
    "#50000=a*11000/(a-1)\n",
    "\n",
    "a=50000./(50e3-11e3)\n",
    "a"
   ],
   "metadata": {
    "collapsed": false,
    "pycharm": {
     "name": "#%%\n"
    }
   }
  },
  {
   "cell_type": "code",
   "execution_count": null,
   "outputs": [],
   "source": [],
   "metadata": {
    "collapsed": false,
    "pycharm": {
     "name": "#%%\n"
    }
   }
  }
 ],
 "metadata": {
  "kernelspec": {
   "display_name": "Python 3",
   "language": "python",
   "name": "python3"
  },
  "language_info": {
   "codemirror_mode": {
    "name": "ipython",
    "version": 2
   },
   "file_extension": ".py",
   "mimetype": "text/x-python",
   "name": "python",
   "nbconvert_exporter": "python",
   "pygments_lexer": "ipython2",
   "version": "2.7.6"
  }
 },
 "nbformat": 4,
 "nbformat_minor": 0
}