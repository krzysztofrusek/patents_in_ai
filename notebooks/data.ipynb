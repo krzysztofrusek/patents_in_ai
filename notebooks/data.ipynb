{
 "cells": [
  {
   "cell_type": "code",
   "execution_count": null,
   "metadata": {
    "collapsed": true
   },
   "outputs": [],
   "source": [
    "import os\n",
    "import pickle\n",
    "\n",
    "import data\n",
    "import gravity\n",
    "import bayes\n",
    "import numpy as np\n",
    "\n",
    "import tuples\n",
    "import util\n",
    "import matplotlib as mpl\n",
    "mpl.use('nbAgg')\n",
    "import matplotlib.pyplot as plt"
   ]
  },
  {
   "cell_type": "markdown",
   "source": [
    "# Aktualizacja patentów"
   ],
   "metadata": {
    "collapsed": false
   }
  },
  {
   "cell_type": "code",
   "execution_count": null,
   "outputs": [],
   "source": [
    "base_dir = '/Users/krzysiek/Library/CloudStorage/OneDrive-Osobisty/KR_dzielone/AI_patenty/dane/15_04_2022'\n",
    "base_dir"
   ],
   "metadata": {
    "collapsed": false,
    "pycharm": {
     "name": "#%%\n"
    }
   }
  },
  {
   "cell_type": "code",
   "execution_count": null,
   "outputs": [],
   "source": [
    "df = data.merge_files(os.path.join(base_dir, 'APPC','*.csv'))\n",
    "clean_df = data.make_clean_df(df)\n",
    "with open('../dane/clean_update.pickle','bw') as f:\n",
    "    pickle.dump(clean_df,f,protocol=pickle.HIGHEST_PROTOCOL)\n",
    "\n",
    "loaded = data.load_clean('../dane/clean_update.pickle')\n",
    "assert (loaded == clean_df).all().all()"
   ],
   "metadata": {
    "collapsed": false,
    "pycharm": {
     "name": "#%%\n"
    }
   }
  },
  {
   "cell_type": "markdown",
   "source": [
    "# Inventor"
   ],
   "metadata": {
    "collapsed": false,
    "pycharm": {
     "name": "#%% md\n"
    }
   }
  },
  {
   "cell_type": "code",
   "execution_count": null,
   "outputs": [],
   "source": [
    "df = data.merge_files(os.path.join(base_dir, 'INVC','*.csv'))\n",
    "clean_df = data.make_clean_df(df,country_column='Inventor country of residence')\n",
    "with open('../dane/clean_inv.pickle','bw') as f:\n",
    "    pickle.dump(clean_df,f,protocol=pickle.HIGHEST_PROTOCOL)\n",
    "\n",
    "loaded = data.load_clean('../dane/clean_inv.pickle')\n",
    "assert (loaded == clean_df).all().all()"
   ],
   "metadata": {
    "collapsed": false,
    "pycharm": {
     "name": "#%%\n"
    }
   }
  },
  {
   "cell_type": "markdown",
   "source": [
    "# Stre rozbudowane"
   ],
   "metadata": {
    "collapsed": false
   }
  },
  {
   "cell_type": "code",
   "execution_count": null,
   "outputs": [],
   "source": [
    "df = data.merge_files('../dane/*.csv')\n",
    "clean_df = data.make_clean_df(df)\n",
    "with open('../dane/clean_3part.pickle','bw') as f:\n",
    "    pickle.dump(clean_df,f,protocol=pickle.HIGHEST_PROTOCOL)\n",
    "\n",
    "loaded = data.load_clean('../dane/clean_3part.pickle')\n",
    "assert (loaded == clean_df).all().all()"
   ],
   "metadata": {
    "collapsed": false,
    "pycharm": {
     "name": "#%%\n"
    }
   }
  },
  {
   "cell_type": "markdown",
   "source": [
    "# Kraje others"
   ],
   "metadata": {
    "collapsed": false,
    "pycharm": {
     "name": "#%% md\n"
    }
   }
  },
  {
   "cell_type": "code",
   "execution_count": null,
   "outputs": [],
   "source": [
    "df = data.merge_files(os.path.join(base_dir, 'APPC','*.csv'))\n",
    "\n",
    "all_ciuntries = set(sum([list(c.split('\\n')) for c in df['Applicant country of residence'].to_list()],[]))\n",
    "all_ciuntries = set([tuples.Country(x) for x in all_ciuntries])\n",
    "len(all_ciuntries.difference(data.Unia))"
   ],
   "metadata": {
    "collapsed": false,
    "pycharm": {
     "name": "#%%\n"
    }
   }
  },
  {
   "cell_type": "code",
   "execution_count": null,
   "outputs": [],
   "source": [
    "\n",
    "print(all_ciuntries.difference(data.Unia))"
   ],
   "metadata": {
    "collapsed": false,
    "pycharm": {
     "name": "#%%\n"
    }
   }
  },
  {
   "cell_type": "code",
   "execution_count": null,
   "outputs": [],
   "source": [
    "clean_df = data.load_clean('../dane/clean_update.pickle')\n",
    "fractions = data.fractions_countries(clean_df, with_others=True)\n",
    "dataset = bayes.Dataset.from_pandas(fractions, gravity.CountryFeaturesType.ALL)"
   ],
   "metadata": {
    "collapsed": false,
    "pycharm": {
     "name": "#%%\n"
    }
   }
  },
  {
   "cell_type": "code",
   "execution_count": null,
   "outputs": [],
   "source": [
    "\n",
    "plt.scatter(dataset.x, (dataset.y))\n",
    "plt.yscale('function', functions=(np.log1p, np.expm1))\n",
    "plt.yticks([0, 1, 2, 5, 10, 25, 50, 100, 250, 500, 1000])\n",
    "plt.show()"
   ],
   "metadata": {
    "collapsed": false,
    "pycharm": {
     "name": "#%%\n"
    }
   }
  },
  {
   "cell_type": "markdown",
   "source": [
    "\n",
    "# test"
   ],
   "metadata": {
    "collapsed": false,
    "pycharm": {
     "name": "#%% md\n"
    }
   }
  },
  {
   "cell_type": "code",
   "execution_count": null,
   "outputs": [],
   "source": [
    "def make_events(path:str):\n",
    "    df = data.load_clean(path)\n",
    "    day_events = df.publication_date.sort_values().to_numpy().astype('datetime64[D]')\n",
    "    events=day_events.astype(np.float64)\n",
    "    return events\n",
    "events = make_events('../dane/clean.pickle')\n",
    "events_new = make_events('../dane/clean_update.pickle')\n",
    "events2 = events_new[:len(events)]"
   ],
   "metadata": {
    "collapsed": false,
    "pycharm": {
     "name": "#%%\n"
    }
   }
  },
  {
   "cell_type": "code",
   "execution_count": null,
   "outputs": [],
   "source": [
    "plt.scatter(events, events2)\n",
    "plt.show()"
   ],
   "metadata": {
    "collapsed": false,
    "pycharm": {
     "name": "#%%\n"
    }
   }
  },
  {
   "cell_type": "code",
   "execution_count": null,
   "outputs": [],
   "source": [
    "plt.plot(np.ones_like(events).cumsum(), np.ones_like(events2).cumsum())\n",
    "plt.plot(plt.xlim(),plt.xlim(),'k:')\n",
    "plt.show()"
   ],
   "metadata": {
    "collapsed": false,
    "pycharm": {
     "name": "#%%\n"
    }
   }
  },
  {
   "cell_type": "markdown",
   "source": [
    "# Duplicaty"
   ],
   "metadata": {
    "collapsed": false,
    "pycharm": {
     "name": "#%% md\n"
    }
   }
  },
  {
   "cell_type": "code",
   "execution_count": null,
   "outputs": [],
   "source": [
    "df = data.load_clean('../dane/clean.pickle')\n",
    "newdf = data.load_clean('../dane/clean_3part.pickle')"
   ],
   "metadata": {
    "collapsed": false,
    "pycharm": {
     "name": "#%%\n"
    }
   }
  },
  {
   "cell_type": "code",
   "execution_count": null,
   "outputs": [],
   "source": [
    "df.sort_values('publication_date')"
   ],
   "metadata": {
    "collapsed": false,
    "pycharm": {
     "name": "#%%\n"
    }
   }
  },
  {
   "cell_type": "code",
   "execution_count": null,
   "outputs": [],
   "source": [
    "newdf.sort_values('publication_date')"
   ],
   "metadata": {
    "collapsed": false,
    "pycharm": {
     "name": "#%%\n"
    }
   }
  },
  {
   "cell_type": "code",
   "execution_count": null,
   "outputs": [],
   "source": [
    "plt.plot(\n",
    "    newdf.sort_values('publication_date').head(df.shape[0])['publication_date'],\n",
    "    df.sort_values('publication_date')['publication_date']\n",
    ")\n",
    "plt.plot(plt.xlim(), plt.xlim(),'k:')\n",
    "plt.show()"
   ],
   "metadata": {
    "collapsed": false,
    "pycharm": {
     "name": "#%%\n"
    }
   }
  },
  {
   "cell_type": "code",
   "execution_count": null,
   "outputs": [],
   "source": [
    "newdf.sort_values('publication_date').head(df.shape[0])['publication_date']\\\n",
    "#-df.sort_values('publication_date')['publication_date']"
   ],
   "metadata": {
    "collapsed": false,
    "pycharm": {
     "name": "#%%\n"
    }
   }
  },
  {
   "cell_type": "code",
   "execution_count": null,
   "outputs": [],
   "source": [
    "df = data.load_clean('../dane/clean_update.pickle')\n",
    "newdf = data.load_clean('../dane/clean_3part.pickle')"
   ],
   "metadata": {
    "collapsed": false,
    "pycharm": {
     "name": "#%%\n"
    }
   }
  },
  {
   "cell_type": "code",
   "execution_count": null,
   "outputs": [],
   "source": [
    "updatepub = set(df.publication)\n",
    "mergedpub = set(newdf.publication)"
   ],
   "metadata": {
    "collapsed": false,
    "pycharm": {
     "name": "#%%\n"
    }
   }
  },
  {
   "cell_type": "code",
   "execution_count": null,
   "outputs": [],
   "source": [
    "len(updatepub.intersection(mergedpub))"
   ],
   "metadata": {
    "collapsed": false,
    "pycharm": {
     "name": "#%%\n"
    }
   }
  },
  {
   "cell_type": "code",
   "execution_count": null,
   "outputs": [],
   "source": [
    "len(updatepub.difference(mergedpub))"
   ],
   "metadata": {
    "collapsed": false,
    "pycharm": {
     "name": "#%%\n"
    }
   }
  },
  {
   "cell_type": "code",
   "execution_count": null,
   "outputs": [],
   "source": [
    "len(mergedpub.difference( updatepub))"
   ],
   "metadata": {
    "collapsed": false,
    "pycharm": {
     "name": "#%%\n"
    }
   }
  },
  {
   "cell_type": "code",
   "execution_count": null,
   "outputs": [],
   "source": [],
   "metadata": {
    "collapsed": false,
    "pycharm": {
     "name": "#%%\n"
    }
   }
  }
 ],
 "metadata": {
  "kernelspec": {
   "display_name": "Python 3",
   "language": "python",
   "name": "python3"
  },
  "language_info": {
   "codemirror_mode": {
    "name": "ipython",
    "version": 2
   },
   "file_extension": ".py",
   "mimetype": "text/x-python",
   "name": "python",
   "nbconvert_exporter": "python",
   "pygments_lexer": "ipython2",
   "version": "2.7.6"
  }
 },
 "nbformat": 4,
 "nbformat_minor": 0
}